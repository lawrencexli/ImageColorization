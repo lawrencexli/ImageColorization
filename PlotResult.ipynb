{
 "cells": [
  {
   "cell_type": "markdown",
   "id": "33e075c3-05c5-4f6e-abc0-b920ff8ac769",
   "metadata": {},
   "source": [
    "# Plot training results\n",
    "\n",
    "Plot all training evaluation metrics "
   ]
  },
  {
   "cell_type": "code",
   "execution_count": null,
   "id": "3b254f16-556f-4819-9bed-d8326eda11f3",
   "metadata": {},
   "outputs": [],
   "source": [
    "import pickle\n",
    "from matplotlib import pyplot as plt"
   ]
  },
  {
   "cell_type": "markdown",
   "id": "a555dce8-9069-4a98-92c9-495ddefa2ebf",
   "metadata": {},
   "source": [
    "### Load the pickle file for performance metric plotting"
   ]
  },
  {
   "cell_type": "code",
   "execution_count": null,
   "id": "4586ca58-42e7-4e73-becd-f6b8104ca286",
   "metadata": {},
   "outputs": [],
   "source": [
    "with open('saved_weights/performance_25k.pkl', 'rb') as f:\n",
    "    performance = pickle.load(f)"
   ]
  },
  {
   "cell_type": "markdown",
   "id": "d8050f93-ee42-4a94-8736-c151e643843d",
   "metadata": {},
   "source": [
    "### Plot the metrics"
   ]
  },
  {
   "cell_type": "code",
   "execution_count": null,
   "id": "57b64541-8a1c-4038-8072-1517ca5cc1dc",
   "metadata": {},
   "outputs": [],
   "source": [
    "plt.plot(performance['d_fake_loss'][:121], label='D Fake Loss')\n",
    "plt.plot(performance['d_real_loss'][:121], label='D Real Loss')\n",
    "plt.plot(performance['d_loss'][:121], label='D Avg Loss')\n",
    "\n",
    "plt.xlabel('Epochs')\n",
    "plt.ylabel('Loss')\n",
    "plt.title('Training discriminator loss over epochs')\n",
    "plt.legend()\n",
    "plt.savefig('evaluation_plots/d_loss.png', dpi=300)"
   ]
  },
  {
   "cell_type": "code",
   "execution_count": null,
   "id": "377fc82a-1ce7-4d2e-a591-506afa6bbf99",
   "metadata": {},
   "outputs": [],
   "source": [
    "plt.plot(performance['g_l1_loss'][:121], label='G L1 Loss')\n",
    "plt.xlabel('Epochs')\n",
    "plt.ylabel('Loss')\n",
    "plt.title('Training generator L1 loss over epochs')\n",
    "plt.legend()\n",
    "plt.savefig('evaluation_plots/g_l1_loss.png', dpi=300)"
   ]
  },
  {
   "cell_type": "code",
   "execution_count": null,
   "id": "a107fc6b-e4e1-4f0e-8532-f76278da9917",
   "metadata": {},
   "outputs": [],
   "source": [
    "plt.plot(performance['g_gan_loss'][:121], label='G GAN Loss')\n",
    "plt.xlabel('Epochs')\n",
    "plt.ylabel('Loss')\n",
    "plt.title('Training generator GAN loss over epochs')\n",
    "plt.legend()\n",
    "plt.savefig('evaluation_plots/g_gan_loss.png', dpi=300)"
   ]
  },
  {
   "cell_type": "code",
   "execution_count": null,
   "id": "217bdb63-53f1-41b7-a12e-cebf86e7236e",
   "metadata": {},
   "outputs": [],
   "source": [
    "plt.plot(performance['psnr'][:121], label='PSNR')\n",
    "plt.xlabel('Epochs')\n",
    "plt.ylabel('PSNR score')\n",
    "plt.title('Training PSNR score over epochs')\n",
    "plt.legend()\n",
    "plt.savefig('evaluation_plots/psnr.png', dpi=300)"
   ]
  },
  {
   "cell_type": "code",
   "execution_count": null,
   "id": "0ac720b8-67c0-4786-a4fe-3218434f6cf0",
   "metadata": {},
   "outputs": [],
   "source": [
    "plt.plot(performance['ssim'][:121], label='SSIM')\n",
    "plt.xlabel('Epochs')\n",
    "plt.ylabel('SSIM score')\n",
    "plt.title('Training SSIM score over epochs')\n",
    "plt.legend()\n",
    "plt.savefig('evaluation_plots/ssim.png', dpi=300)"
   ]
  },
  {
   "cell_type": "code",
   "execution_count": null,
   "id": "0b736a0f-c44d-4fc1-bbff-367a36a2af2d",
   "metadata": {},
   "outputs": [],
   "source": []
  }
 ],
 "metadata": {
  "kernelspec": {
   "display_name": "Python 3",
   "language": "python",
   "name": "python3"
  },
  "language_info": {
   "codemirror_mode": {
    "name": "ipython",
    "version": 3
   },
   "file_extension": ".py",
   "mimetype": "text/x-python",
   "name": "python",
   "nbconvert_exporter": "python",
   "pygments_lexer": "ipython3",
   "version": "3.7.12"
  }
 },
 "nbformat": 4,
 "nbformat_minor": 5
}
